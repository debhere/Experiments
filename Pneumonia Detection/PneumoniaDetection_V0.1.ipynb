{
 "cells": [
  {
   "cell_type": "code",
   "execution_count": 1,
   "id": "da5d3a37",
   "metadata": {},
   "outputs": [],
   "source": [
    "import numpy as np\n",
    "import matplotlib.pyplot as plt\n",
    "import os\n",
    "import cv2"
   ]
  },
  {
   "cell_type": "code",
   "execution_count": 9,
   "id": "4ddd95c7",
   "metadata": {},
   "outputs": [],
   "source": [
    "from tensorflow import keras\n",
    "from tensorflow import config\n",
    "from pathlib import Path"
   ]
  },
  {
   "cell_type": "code",
   "execution_count": 7,
   "id": "0aa71699",
   "metadata": {},
   "outputs": [],
   "source": [
    "BASE_PATH = \"chestxray\"\n",
    "\n",
    "TRAIN_PATH = Path(os.path.join(BASE_PATH, \"train\"))\n",
    "TEST_PATH = Path(os.path.join(BASE_PATH, \"test\"))\n",
    "VAL_PATH = Path(os.path.join(BASE_PATH, \"val\"))"
   ]
  },
  {
   "cell_type": "code",
   "execution_count": null,
   "id": "a1b2a194",
   "metadata": {},
   "outputs": [],
   "source": [
    "#defaults\n",
    "\n",
    "EPOCHS = 20\n",
    "BATCHES = 32\n",
    "IMAGE_SIZE = 256\n",
    "CHANNEL = 3"
   ]
  }
 ],
 "metadata": {
  "kernelspec": {
   "display_name": "Python 3 (ipykernel)",
   "language": "python",
   "name": "python3"
  },
  "language_info": {
   "codemirror_mode": {
    "name": "ipython",
    "version": 3
   },
   "file_extension": ".py",
   "mimetype": "text/x-python",
   "name": "python",
   "nbconvert_exporter": "python",
   "pygments_lexer": "ipython3",
   "version": "3.11.9"
  }
 },
 "nbformat": 4,
 "nbformat_minor": 5
}
